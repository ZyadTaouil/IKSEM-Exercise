{
 "cells": [
  {
   "cell_type": "markdown",
   "metadata": {
    "id": "bSCRK54nDGEU"
   },
   "source": [
    "---\n",
    "University Paris 1 Panthéon-Sorbonne \n",
    "\n",
    "Introduction to Machine Learning\n",
    "\n",
    "Dr. Nourhène BEN RABAH\n",
    "\n",
    "---\n",
    "\n",
    "# Lab 1: Preparing data with Pandas\n",
    "\n",
    "\n",
    "#### Here is the documentation for the Pandas data structure [`DataFrame`](https://pandas.pydata.org/docs/dev/reference/api/pandas.DataFrame.html).\n",
    "\n",
    "\n",
    "#### You must send the notebook completed during the session on Discord.\n",
    "\n",
    "---\n"
   ]
  },
  {
   "cell_type": "markdown",
   "metadata": {
    "id": "JMulY6xCDDri"
   },
   "source": [
    "### Part 1. Cheese.csv\n",
    "\n",
    "#### Step 0. Import the Pandas library"
   ]
  },
  {
   "cell_type": "code",
   "execution_count": 8,
   "metadata": {},
   "outputs": [],
   "source": [
    "import pandas as pd\n",
    "df = pd.read_csv('cheese.csv')"
   ]
  },
  {
   "cell_type": "markdown",
   "metadata": {
    "id": "V4DRd9LnDDrj"
   },
   "source": [
    "#### Step 1. Import the dataset\n",
    "\n",
    "Start by importing the cheese.csv file. To do this, use the function [`read_csv`](https://pandas.pydata.org/pandas-docs/stable/reference/api/pandas.read_csv.html)."
   ]
  },
  {
   "cell_type": "markdown",
   "metadata": {
    "id": "Lnf7xyBkDDrk"
   },
   "source": [
    "#### Step 2. Look at the first and last lines\n",
    "\n",
    "Looking at the first and last lines allows you to : \n",
    "- Check that the import has gone  properly\n",
    "- Get a quick overview of what our dataframe will look like"
   ]
  },
  {
   "cell_type": "code",
   "execution_count": 9,
   "metadata": {},
   "outputs": [
    {
     "name": "stdout",
     "output_type": "stream",
     "text": [
      "  cheese;calories;sodium;calcium;lipides;retinol;folates;proteines;cholesterol;magnesium\n",
      "0  CarredelEst;314;353.5;72.6;26.3;51.6;30.3;21;7...                                    \n",
      "1     Babybel;314;238;209.8;25.1;63.7;6.4;22.6;70;27                                    \n",
      "2   Beaufort;401;112;259.4;33.3;54.9;1.2;26.6;120;41                                    \n",
      "3       Bleu;342;336;211.1;28.9;37.1;27.5;20.2;90;27                                    \n",
      "4   Camembert;264;314;215.9;19.5;103;36.4;23.4;60;20                                    \n"
     ]
    }
   ],
   "source": [
    "# First lines\n",
    "print(df.head())"
   ]
  },
  {
   "cell_type": "code",
   "execution_count": 10,
   "metadata": {},
   "outputs": [
    {
     "name": "stdout",
     "output_type": "stream",
     "text": [
      "   cheese;calories;sodium;calcium;lipides;retinol;folates;proteines;cholesterol;magnesium\n",
      "24  Rocquefort;370;432;162;31.2;83.5;13.3;18.7;100;25                                    \n",
      "25   SaintPaulin;298;205;261;23.3;60.4;6.7;23.3;70;26                                    \n",
      "26        Tome;321;252;125.5;27.3;62.3;6.2;21.8;80;20                                    \n",
      "27      Vacherin;321;140;218;29.3;49.2;3.7;17.6;80;30                                    \n",
      "28  Yaourtlaitent.nat.;70;91;215.7;3.4;42.9;2.9;4....                                    \n"
     ]
    }
   ],
   "source": [
    "#Last lines \n",
    "print(df.tail())"
   ]
  },
  {
   "cell_type": "markdown",
   "metadata": {},
   "source": [
    "Looking at these lines, you've probably noticed that the import didn't go well. So you're going to import the dataset correctly. You'll use ';' as a delimiter and specify that the first line (index 0) contains the column names.\n",
    "You can then check again. "
   ]
  },
  {
   "cell_type": "code",
   "execution_count": 15,
   "metadata": {},
   "outputs": [],
   "source": [
    "# Import the dataset correctly \n",
    "df = pd.read_csv('cheese.csv', sep = ';', engine = 'python')"
   ]
  },
  {
   "cell_type": "markdown",
   "metadata": {},
   "source": [
    "As you can see default behavior of header (no names are passed)is identical to header=0 and column names are inferred from the first line of the file"
   ]
  },
  {
   "cell_type": "markdown",
   "metadata": {
    "id": "ebtUFx4JDDrl"
   },
   "source": [
    "#### Step 3. Check column types\n",
    "\n",
    "The second thing to do is a quick check on the types of each column assigned by pandas during import, once again to verify that the import has gone well. Display all column types and what do you notice ?"
   ]
  },
  {
   "cell_type": "code",
   "execution_count": 17,
   "metadata": {},
   "outputs": [
    {
     "data": {
      "text/plain": [
       "cheese          object\n",
       "calories         int64\n",
       "sodium         float64\n",
       "calcium        float64\n",
       "lipides        float64\n",
       "retinol        float64\n",
       "folates        float64\n",
       "proteines      float64\n",
       "cholesterol      int64\n",
       "magnesium        int64\n",
       "dtype: object"
      ]
     },
     "execution_count": 17,
     "metadata": {},
     "output_type": "execute_result"
    }
   ],
   "source": [
    "# Column types\n",
    "df.dtypes"
   ]
  },
  {
   "cell_type": "markdown",
   "metadata": {},
   "source": [
    "You can note that object type columns are usually used to store text data, such as names, descriptions, or other textual information."
   ]
  },
  {
   "cell_type": "markdown",
   "metadata": {
    "id": "he7H5p9ADDrl"
   },
   "source": [
    "#### Step 4. What is the number of observations in the dataset?\n",
    "\n",
    "How many rows and columns are contained in our file?"
   ]
  },
  {
   "cell_type": "code",
   "execution_count": 22,
   "metadata": {},
   "outputs": [
    {
     "name": "stdout",
     "output_type": "stream",
     "text": [
      "number of rows: 29\n",
      "number of columns: 10\n"
     ]
    }
   ],
   "source": [
    "rows = len(df.axes[0])\n",
    "cols = len(df.axes[1])\n",
    "print(\"number of rows:\", rows)\n",
    "print(\"number of columns:\", cols)"
   ]
  },
  {
   "cell_type": "markdown",
   "metadata": {},
   "source": [
    "#### Step 5. What is the information about the first cheese in the dataset? \n",
    "\n",
    "Now it's time to use the selection function that will be most useful to you, the [`iloc`](https://pandas.pydata.org/pandas-docs/stable/reference/api/pandas.DataFrame.iloc.html) method. Pandas' .iloc[] indexer is used to select data by position, mainly with integer indices. \n",
    "\n",
    "Here's a breakdown of the possible values for .iloc[]:\n",
    "- a) Single integer: You can pass a single integer to select a specific row or column at that position.\n",
    "- b) You can pass a list of integers to select multiple rows or columns at specific positions\n",
    "- c) Slicing with integers: You can use slicing with integers to select a range of rows or columns. \n",
    "- d) Mixing integers and slices\n",
    "- e) Boolean arrays: You can also use boolean arrays to select rows or columns based on a condition. "
   ]
  },
  {
   "cell_type": "code",
   "execution_count": 32,
   "metadata": {},
   "outputs": [
    {
     "name": "stdout",
     "output_type": "stream",
     "text": [
      "first row is :\n",
      " cheese         CarredelEst\n",
      "calories               314\n",
      "sodium               353.5\n",
      "calcium               72.6\n",
      "lipides               26.3\n",
      "retinol               51.6\n",
      "folates               30.3\n",
      "proteines             21.0\n",
      "cholesterol             70\n",
      "magnesium               20\n",
      "Name: 0, dtype: object\n"
     ]
    }
   ],
   "source": [
    "#selects the first row of the DataFrame.\n",
    "first_row = df.iloc[0]\n",
    "print(\"first row is :\\n\", first_column)"
   ]
  },
  {
   "cell_type": "markdown",
   "metadata": {},
   "source": [
    "#### Step 6. Change the name of the variable `cheese` to `cheese_name`."
   ]
  },
  {
   "cell_type": "code",
   "execution_count": 39,
   "metadata": {},
   "outputs": [],
   "source": [
    "#Rename the variable\n",
    "df.rename(columns={\"cheese\": \"cheese_name\"}, inplace=True)"
   ]
  },
  {
   "cell_type": "markdown",
   "metadata": {},
   "source": [
    "#### Step 7. Which cheese exist in the dataset?"
   ]
  },
  {
   "cell_type": "code",
   "execution_count": 40,
   "metadata": {},
   "outputs": [
    {
     "name": "stdout",
     "output_type": "stream",
     "text": [
      "       CarredelEst\n",
      "           Babybel\n",
      "          Beaufort\n",
      "              Bleu\n",
      "         Camembert\n",
      "            Cantal\n",
      "         Chabichou\n",
      "          Chaource\n",
      "           Cheddar\n",
      "             Comte\n",
      "       Coulomniers\n",
      "              Edam\n",
      "          Emmental\n",
      "Fr.chevrepatemolle\n",
      "       Fr.fondu.45\n",
      "    Fr.frais20nat.\n",
      "    Fr.frais40nat.\n",
      "         Maroilles\n",
      "           Morbier\n",
      "          Parmesan\n",
      "     Petitsuisse40\n",
      "       PontlEveque\n",
      "          Pyrenees\n",
      "         Reblochon\n",
      "        Rocquefort\n",
      "       SaintPaulin\n",
      "              Tome\n",
      "          Vacherin\n",
      "Yaourtlaitent.nat.\n"
     ]
    }
   ],
   "source": [
    "print(df['cheese_name'].to_string(index=False))"
   ]
  },
  {
   "cell_type": "markdown",
   "metadata": {
    "id": "A7fb3BWuDDrp"
   },
   "source": [
    "##### Step 8. Quick analysis of our dataset information\n",
    "\n",
    "Use the [`describe`](https://pandas.pydata.org/pandas-docs/stable/reference/api/pandas.DataFrame.describe.html) and [`info`](https://pandas.pydata.org/pandas-docs/stable/reference/api/pandas.DataFrame.info.html) functions to get some quick information about the variables in our dataframe. From these descriptions, can you determine the number of non-zero elements in the dataset? "
   ]
  },
  {
   "cell_type": "code",
   "execution_count": 41,
   "metadata": {},
   "outputs": [
    {
     "data": {
      "text/html": [
       "<div>\n",
       "<style scoped>\n",
       "    .dataframe tbody tr th:only-of-type {\n",
       "        vertical-align: middle;\n",
       "    }\n",
       "\n",
       "    .dataframe tbody tr th {\n",
       "        vertical-align: top;\n",
       "    }\n",
       "\n",
       "    .dataframe thead th {\n",
       "        text-align: right;\n",
       "    }\n",
       "</style>\n",
       "<table border=\"1\" class=\"dataframe\">\n",
       "  <thead>\n",
       "    <tr style=\"text-align: right;\">\n",
       "      <th></th>\n",
       "      <th>calories</th>\n",
       "      <th>sodium</th>\n",
       "      <th>calcium</th>\n",
       "      <th>lipides</th>\n",
       "      <th>retinol</th>\n",
       "      <th>folates</th>\n",
       "      <th>proteines</th>\n",
       "      <th>cholesterol</th>\n",
       "      <th>magnesium</th>\n",
       "    </tr>\n",
       "  </thead>\n",
       "  <tbody>\n",
       "    <tr>\n",
       "      <th>count</th>\n",
       "      <td>29.000000</td>\n",
       "      <td>29.000000</td>\n",
       "      <td>29.000000</td>\n",
       "      <td>29.000000</td>\n",
       "      <td>29.000000</td>\n",
       "      <td>29.000000</td>\n",
       "      <td>29.000000</td>\n",
       "      <td>29.000000</td>\n",
       "      <td>29.000000</td>\n",
       "    </tr>\n",
       "    <tr>\n",
       "      <th>mean</th>\n",
       "      <td>300.034483</td>\n",
       "      <td>210.086207</td>\n",
       "      <td>185.734483</td>\n",
       "      <td>24.158621</td>\n",
       "      <td>67.562069</td>\n",
       "      <td>13.010345</td>\n",
       "      <td>20.168966</td>\n",
       "      <td>74.586207</td>\n",
       "      <td>26.965517</td>\n",
       "    </tr>\n",
       "    <tr>\n",
       "      <th>std</th>\n",
       "      <td>91.914356</td>\n",
       "      <td>108.678923</td>\n",
       "      <td>72.528882</td>\n",
       "      <td>8.129642</td>\n",
       "      <td>24.163098</td>\n",
       "      <td>11.723339</td>\n",
       "      <td>6.959788</td>\n",
       "      <td>28.245755</td>\n",
       "      <td>11.318388</td>\n",
       "    </tr>\n",
       "    <tr>\n",
       "      <th>min</th>\n",
       "      <td>70.000000</td>\n",
       "      <td>22.000000</td>\n",
       "      <td>72.600000</td>\n",
       "      <td>3.400000</td>\n",
       "      <td>37.100000</td>\n",
       "      <td>1.200000</td>\n",
       "      <td>4.100000</td>\n",
       "      <td>10.000000</td>\n",
       "      <td>10.000000</td>\n",
       "    </tr>\n",
       "    <tr>\n",
       "      <th>25%</th>\n",
       "      <td>292.000000</td>\n",
       "      <td>140.000000</td>\n",
       "      <td>132.900000</td>\n",
       "      <td>23.400000</td>\n",
       "      <td>51.600000</td>\n",
       "      <td>4.900000</td>\n",
       "      <td>17.800000</td>\n",
       "      <td>70.000000</td>\n",
       "      <td>20.000000</td>\n",
       "    </tr>\n",
       "    <tr>\n",
       "      <th>50%</th>\n",
       "      <td>321.000000</td>\n",
       "      <td>223.000000</td>\n",
       "      <td>202.300000</td>\n",
       "      <td>26.300000</td>\n",
       "      <td>62.300000</td>\n",
       "      <td>6.400000</td>\n",
       "      <td>21.000000</td>\n",
       "      <td>80.000000</td>\n",
       "      <td>26.000000</td>\n",
       "    </tr>\n",
       "    <tr>\n",
       "      <th>75%</th>\n",
       "      <td>355.000000</td>\n",
       "      <td>276.000000</td>\n",
       "      <td>220.500000</td>\n",
       "      <td>29.100000</td>\n",
       "      <td>76.400000</td>\n",
       "      <td>21.100000</td>\n",
       "      <td>23.400000</td>\n",
       "      <td>90.000000</td>\n",
       "      <td>30.000000</td>\n",
       "    </tr>\n",
       "    <tr>\n",
       "      <th>max</th>\n",
       "      <td>406.000000</td>\n",
       "      <td>432.000000</td>\n",
       "      <td>334.600000</td>\n",
       "      <td>33.300000</td>\n",
       "      <td>150.500000</td>\n",
       "      <td>36.400000</td>\n",
       "      <td>35.700000</td>\n",
       "      <td>120.000000</td>\n",
       "      <td>51.000000</td>\n",
       "    </tr>\n",
       "  </tbody>\n",
       "</table>\n",
       "</div>"
      ],
      "text/plain": [
       "         calories      sodium     calcium    lipides     retinol    folates  \\\n",
       "count   29.000000   29.000000   29.000000  29.000000   29.000000  29.000000   \n",
       "mean   300.034483  210.086207  185.734483  24.158621   67.562069  13.010345   \n",
       "std     91.914356  108.678923   72.528882   8.129642   24.163098  11.723339   \n",
       "min     70.000000   22.000000   72.600000   3.400000   37.100000   1.200000   \n",
       "25%    292.000000  140.000000  132.900000  23.400000   51.600000   4.900000   \n",
       "50%    321.000000  223.000000  202.300000  26.300000   62.300000   6.400000   \n",
       "75%    355.000000  276.000000  220.500000  29.100000   76.400000  21.100000   \n",
       "max    406.000000  432.000000  334.600000  33.300000  150.500000  36.400000   \n",
       "\n",
       "       proteines  cholesterol  magnesium  \n",
       "count  29.000000    29.000000  29.000000  \n",
       "mean   20.168966    74.586207  26.965517  \n",
       "std     6.959788    28.245755  11.318388  \n",
       "min     4.100000    10.000000  10.000000  \n",
       "25%    17.800000    70.000000  20.000000  \n",
       "50%    21.000000    80.000000  26.000000  \n",
       "75%    23.400000    90.000000  30.000000  \n",
       "max    35.700000   120.000000  51.000000  "
      ]
     },
     "execution_count": 41,
     "metadata": {},
     "output_type": "execute_result"
    }
   ],
   "source": [
    "# Describe function \n",
    "df.describe()"
   ]
  },
  {
   "cell_type": "code",
   "execution_count": 45,
   "metadata": {},
   "outputs": [
    {
     "name": "stdout",
     "output_type": "stream",
     "text": [
      "<class 'pandas.core.frame.DataFrame'>\n",
      "RangeIndex: 29 entries, 0 to 28\n",
      "Data columns (total 10 columns):\n",
      " #   Column       Non-Null Count  Dtype  \n",
      "---  ------       --------------  -----  \n",
      " 0   cheese_name  29 non-null     object \n",
      " 1   calories     29 non-null     int64  \n",
      " 2   sodium       29 non-null     float64\n",
      " 3   calcium      29 non-null     float64\n",
      " 4   lipides      29 non-null     float64\n",
      " 5   retinol      29 non-null     float64\n",
      " 6   folates      29 non-null     float64\n",
      " 7   proteines    29 non-null     float64\n",
      " 8   cholesterol  29 non-null     int64  \n",
      " 9   magnesium    29 non-null     int64  \n",
      "dtypes: float64(6), int64(3), object(1)\n",
      "memory usage: 2.4+ KB\n",
      "\n",
      " count() :\n"
     ]
    },
    {
     "data": {
      "text/plain": [
       "cheese_name    29\n",
       "calories       29\n",
       "sodium         29\n",
       "calcium        29\n",
       "lipides        29\n",
       "retinol        29\n",
       "folates        29\n",
       "proteines      29\n",
       "cholesterol    29\n",
       "magnesium      29\n",
       "dtype: int64"
      ]
     },
     "execution_count": 45,
     "metadata": {},
     "output_type": "execute_result"
    }
   ],
   "source": [
    "# info function \n",
    "df.info()\n",
    "print('\\n count() :')\n",
    "df.count()"
   ]
  },
  {
   "cell_type": "markdown",
   "metadata": {},
   "source": [
    "As you can note the count function displays the number of non-null values. "
   ]
  },
  {
   "cell_type": "markdown",
   "metadata": {
    "id": "UrGSk3wnDDrr"
   },
   "source": [
    "##### Step 9. Selection within a dataframe\n",
    "\n",
    "###### a) We've already seen how to select a column. Using a similar script, select two columns of your choice."
   ]
  },
  {
   "cell_type": "code",
   "execution_count": 48,
   "metadata": {},
   "outputs": [
    {
     "name": "stdout",
     "output_type": "stream",
     "text": [
      "           cheese_name  calories\n",
      "0          CarredelEst       314\n",
      "1              Babybel       314\n",
      "2             Beaufort       401\n",
      "3                 Bleu       342\n",
      "4            Camembert       264\n",
      "5               Cantal       367\n",
      "6            Chabichou       344\n",
      "7             Chaource       292\n",
      "8              Cheddar       406\n",
      "9                Comte       399\n",
      "10         Coulomniers       308\n",
      "11                Edam       327\n",
      "12            Emmental       378\n",
      "13  Fr.chevrepatemolle       206\n",
      "14         Fr.fondu.45       292\n",
      "15      Fr.frais20nat.        80\n",
      "16      Fr.frais40nat.       115\n",
      "17           Maroilles       338\n",
      "18             Morbier       347\n",
      "19            Parmesan       381\n",
      "20       Petitsuisse40       142\n",
      "21         PontlEveque       300\n",
      "22            Pyrenees       355\n",
      "23           Reblochon       309\n",
      "24          Rocquefort       370\n",
      "25         SaintPaulin       298\n",
      "26                Tome       321\n",
      "27            Vacherin       321\n",
      "28  Yaourtlaitent.nat.        70\n"
     ]
    }
   ],
   "source": [
    "columns = df[['cheese_name', 'calories']]\n",
    "print(columns)"
   ]
  },
  {
   "cell_type": "markdown",
   "metadata": {
    "id": "Pc_9YGMgDDrr"
   },
   "source": [
    "###### b) Using the [`loc`](https://pandas.pydata.org/pandas-docs/stable/reference/api/pandas.DataFrame.loc.html) method, select and determine the cheese with the lowest calories (less than 100):"
   ]
  },
  {
   "cell_type": "code",
   "execution_count": 49,
   "metadata": {},
   "outputs": [
    {
     "data": {
      "text/html": [
       "<div>\n",
       "<style scoped>\n",
       "    .dataframe tbody tr th:only-of-type {\n",
       "        vertical-align: middle;\n",
       "    }\n",
       "\n",
       "    .dataframe tbody tr th {\n",
       "        vertical-align: top;\n",
       "    }\n",
       "\n",
       "    .dataframe thead th {\n",
       "        text-align: right;\n",
       "    }\n",
       "</style>\n",
       "<table border=\"1\" class=\"dataframe\">\n",
       "  <thead>\n",
       "    <tr style=\"text-align: right;\">\n",
       "      <th></th>\n",
       "      <th>cheese_name</th>\n",
       "      <th>calories</th>\n",
       "      <th>sodium</th>\n",
       "      <th>calcium</th>\n",
       "      <th>lipides</th>\n",
       "      <th>retinol</th>\n",
       "      <th>folates</th>\n",
       "      <th>proteines</th>\n",
       "      <th>cholesterol</th>\n",
       "      <th>magnesium</th>\n",
       "    </tr>\n",
       "  </thead>\n",
       "  <tbody>\n",
       "    <tr>\n",
       "      <th>15</th>\n",
       "      <td>Fr.frais20nat.</td>\n",
       "      <td>80</td>\n",
       "      <td>41.0</td>\n",
       "      <td>146.3</td>\n",
       "      <td>3.5</td>\n",
       "      <td>50.0</td>\n",
       "      <td>20.0</td>\n",
       "      <td>8.3</td>\n",
       "      <td>10</td>\n",
       "      <td>11</td>\n",
       "    </tr>\n",
       "    <tr>\n",
       "      <th>28</th>\n",
       "      <td>Yaourtlaitent.nat.</td>\n",
       "      <td>70</td>\n",
       "      <td>91.0</td>\n",
       "      <td>215.7</td>\n",
       "      <td>3.4</td>\n",
       "      <td>42.9</td>\n",
       "      <td>2.9</td>\n",
       "      <td>4.1</td>\n",
       "      <td>13</td>\n",
       "      <td>14</td>\n",
       "    </tr>\n",
       "  </tbody>\n",
       "</table>\n",
       "</div>"
      ],
      "text/plain": [
       "           cheese_name  calories  sodium  calcium  lipides  retinol  folates  \\\n",
       "15      Fr.frais20nat.        80    41.0    146.3      3.5     50.0     20.0   \n",
       "28  Yaourtlaitent.nat.        70    91.0    215.7      3.4     42.9      2.9   \n",
       "\n",
       "    proteines  cholesterol  magnesium  \n",
       "15        8.3           10         11  \n",
       "28        4.1           13         14  "
      ]
     },
     "execution_count": 49,
     "metadata": {},
     "output_type": "execute_result"
    }
   ],
   "source": [
    "#.loc \n",
    "df.loc[df['calories']<100]"
   ]
  },
  {
   "cell_type": "markdown",
   "metadata": {
    "id": "XQ6u2griDDrs"
   },
   "source": [
    "###### c) Select only the names of these cheese"
   ]
  },
  {
   "cell_type": "code",
   "execution_count": 50,
   "metadata": {},
   "outputs": [
    {
     "data": {
      "text/html": [
       "<div>\n",
       "<style scoped>\n",
       "    .dataframe tbody tr th:only-of-type {\n",
       "        vertical-align: middle;\n",
       "    }\n",
       "\n",
       "    .dataframe tbody tr th {\n",
       "        vertical-align: top;\n",
       "    }\n",
       "\n",
       "    .dataframe thead th {\n",
       "        text-align: right;\n",
       "    }\n",
       "</style>\n",
       "<table border=\"1\" class=\"dataframe\">\n",
       "  <thead>\n",
       "    <tr style=\"text-align: right;\">\n",
       "      <th></th>\n",
       "      <th>cheese_name</th>\n",
       "    </tr>\n",
       "  </thead>\n",
       "  <tbody>\n",
       "    <tr>\n",
       "      <th>15</th>\n",
       "      <td>Fr.frais20nat.</td>\n",
       "    </tr>\n",
       "    <tr>\n",
       "      <th>28</th>\n",
       "      <td>Yaourtlaitent.nat.</td>\n",
       "    </tr>\n",
       "  </tbody>\n",
       "</table>\n",
       "</div>"
      ],
      "text/plain": [
       "           cheese_name\n",
       "15      Fr.frais20nat.\n",
       "28  Yaourtlaitent.nat."
      ]
     },
     "execution_count": 50,
     "metadata": {},
     "output_type": "execute_result"
    }
   ],
   "source": [
    "df.loc[df['calories']<100, ['cheese_name']]"
   ]
  },
  {
   "cell_type": "markdown",
   "metadata": {
    "id": "ZWlsm1cFDDrs"
   },
   "source": [
    "###### d) Now select the information describing cheese of less than 100 calories with protein >5"
   ]
  },
  {
   "cell_type": "code",
   "execution_count": 52,
   "metadata": {},
   "outputs": [
    {
     "data": {
      "text/html": [
       "<div>\n",
       "<style scoped>\n",
       "    .dataframe tbody tr th:only-of-type {\n",
       "        vertical-align: middle;\n",
       "    }\n",
       "\n",
       "    .dataframe tbody tr th {\n",
       "        vertical-align: top;\n",
       "    }\n",
       "\n",
       "    .dataframe thead th {\n",
       "        text-align: right;\n",
       "    }\n",
       "</style>\n",
       "<table border=\"1\" class=\"dataframe\">\n",
       "  <thead>\n",
       "    <tr style=\"text-align: right;\">\n",
       "      <th></th>\n",
       "      <th>cheese_name</th>\n",
       "      <th>calories</th>\n",
       "      <th>sodium</th>\n",
       "      <th>calcium</th>\n",
       "      <th>lipides</th>\n",
       "      <th>retinol</th>\n",
       "      <th>folates</th>\n",
       "      <th>proteines</th>\n",
       "      <th>cholesterol</th>\n",
       "      <th>magnesium</th>\n",
       "    </tr>\n",
       "  </thead>\n",
       "  <tbody>\n",
       "    <tr>\n",
       "      <th>15</th>\n",
       "      <td>Fr.frais20nat.</td>\n",
       "      <td>80</td>\n",
       "      <td>41.0</td>\n",
       "      <td>146.3</td>\n",
       "      <td>3.5</td>\n",
       "      <td>50.0</td>\n",
       "      <td>20.0</td>\n",
       "      <td>8.3</td>\n",
       "      <td>10</td>\n",
       "      <td>11</td>\n",
       "    </tr>\n",
       "  </tbody>\n",
       "</table>\n",
       "</div>"
      ],
      "text/plain": [
       "       cheese_name  calories  sodium  calcium  lipides  retinol  folates  \\\n",
       "15  Fr.frais20nat.        80    41.0    146.3      3.5     50.0     20.0   \n",
       "\n",
       "    proteines  cholesterol  magnesium  \n",
       "15        8.3           10         11  "
      ]
     },
     "execution_count": 52,
     "metadata": {},
     "output_type": "execute_result"
    }
   ],
   "source": [
    "df.loc[(df['calories']<100) & (df['proteines'] > 5)]"
   ]
  },
  {
   "cell_type": "markdown",
   "metadata": {
    "id": "ZJQ9kcFzDDrs"
   },
   "source": [
    "###### e) On these cheese, select only their name and the number of proteins."
   ]
  },
  {
   "cell_type": "code",
   "execution_count": 53,
   "metadata": {},
   "outputs": [
    {
     "data": {
      "text/html": [
       "<div>\n",
       "<style scoped>\n",
       "    .dataframe tbody tr th:only-of-type {\n",
       "        vertical-align: middle;\n",
       "    }\n",
       "\n",
       "    .dataframe tbody tr th {\n",
       "        vertical-align: top;\n",
       "    }\n",
       "\n",
       "    .dataframe thead th {\n",
       "        text-align: right;\n",
       "    }\n",
       "</style>\n",
       "<table border=\"1\" class=\"dataframe\">\n",
       "  <thead>\n",
       "    <tr style=\"text-align: right;\">\n",
       "      <th></th>\n",
       "      <th>cheese_name</th>\n",
       "      <th>proteines</th>\n",
       "    </tr>\n",
       "  </thead>\n",
       "  <tbody>\n",
       "    <tr>\n",
       "      <th>15</th>\n",
       "      <td>Fr.frais20nat.</td>\n",
       "      <td>8.3</td>\n",
       "    </tr>\n",
       "  </tbody>\n",
       "</table>\n",
       "</div>"
      ],
      "text/plain": [
       "       cheese_name  proteines\n",
       "15  Fr.frais20nat.        8.3"
      ]
     },
     "execution_count": 53,
     "metadata": {},
     "output_type": "execute_result"
    }
   ],
   "source": [
    "df.loc[(df['calories']<100) & (df['proteines'] > 5), ['cheese_name','proteines'] ]"
   ]
  },
  {
   "cell_type": "markdown",
   "metadata": {
    "id": "1eKdZBcrDDrs"
   },
   "source": [
    "###### f) Finally, create a new dataframe containing only cheeses with calories greater than or equal to 100."
   ]
  },
  {
   "cell_type": "code",
   "execution_count": 54,
   "metadata": {},
   "outputs": [
    {
     "data": {
      "text/html": [
       "<div>\n",
       "<style scoped>\n",
       "    .dataframe tbody tr th:only-of-type {\n",
       "        vertical-align: middle;\n",
       "    }\n",
       "\n",
       "    .dataframe tbody tr th {\n",
       "        vertical-align: top;\n",
       "    }\n",
       "\n",
       "    .dataframe thead th {\n",
       "        text-align: right;\n",
       "    }\n",
       "</style>\n",
       "<table border=\"1\" class=\"dataframe\">\n",
       "  <thead>\n",
       "    <tr style=\"text-align: right;\">\n",
       "      <th></th>\n",
       "      <th>cheese_name</th>\n",
       "      <th>calories</th>\n",
       "      <th>sodium</th>\n",
       "      <th>calcium</th>\n",
       "      <th>lipides</th>\n",
       "      <th>retinol</th>\n",
       "      <th>folates</th>\n",
       "      <th>proteines</th>\n",
       "      <th>cholesterol</th>\n",
       "      <th>magnesium</th>\n",
       "    </tr>\n",
       "  </thead>\n",
       "  <tbody>\n",
       "    <tr>\n",
       "      <th>0</th>\n",
       "      <td>CarredelEst</td>\n",
       "      <td>314</td>\n",
       "      <td>353.5</td>\n",
       "      <td>72.6</td>\n",
       "      <td>26.3</td>\n",
       "      <td>51.6</td>\n",
       "      <td>30.3</td>\n",
       "      <td>21.0</td>\n",
       "      <td>70</td>\n",
       "      <td>20</td>\n",
       "    </tr>\n",
       "    <tr>\n",
       "      <th>1</th>\n",
       "      <td>Babybel</td>\n",
       "      <td>314</td>\n",
       "      <td>238.0</td>\n",
       "      <td>209.8</td>\n",
       "      <td>25.1</td>\n",
       "      <td>63.7</td>\n",
       "      <td>6.4</td>\n",
       "      <td>22.6</td>\n",
       "      <td>70</td>\n",
       "      <td>27</td>\n",
       "    </tr>\n",
       "    <tr>\n",
       "      <th>2</th>\n",
       "      <td>Beaufort</td>\n",
       "      <td>401</td>\n",
       "      <td>112.0</td>\n",
       "      <td>259.4</td>\n",
       "      <td>33.3</td>\n",
       "      <td>54.9</td>\n",
       "      <td>1.2</td>\n",
       "      <td>26.6</td>\n",
       "      <td>120</td>\n",
       "      <td>41</td>\n",
       "    </tr>\n",
       "    <tr>\n",
       "      <th>3</th>\n",
       "      <td>Bleu</td>\n",
       "      <td>342</td>\n",
       "      <td>336.0</td>\n",
       "      <td>211.1</td>\n",
       "      <td>28.9</td>\n",
       "      <td>37.1</td>\n",
       "      <td>27.5</td>\n",
       "      <td>20.2</td>\n",
       "      <td>90</td>\n",
       "      <td>27</td>\n",
       "    </tr>\n",
       "    <tr>\n",
       "      <th>4</th>\n",
       "      <td>Camembert</td>\n",
       "      <td>264</td>\n",
       "      <td>314.0</td>\n",
       "      <td>215.9</td>\n",
       "      <td>19.5</td>\n",
       "      <td>103.0</td>\n",
       "      <td>36.4</td>\n",
       "      <td>23.4</td>\n",
       "      <td>60</td>\n",
       "      <td>20</td>\n",
       "    </tr>\n",
       "    <tr>\n",
       "      <th>5</th>\n",
       "      <td>Cantal</td>\n",
       "      <td>367</td>\n",
       "      <td>256.0</td>\n",
       "      <td>264.0</td>\n",
       "      <td>28.8</td>\n",
       "      <td>48.8</td>\n",
       "      <td>5.7</td>\n",
       "      <td>23.0</td>\n",
       "      <td>90</td>\n",
       "      <td>30</td>\n",
       "    </tr>\n",
       "    <tr>\n",
       "      <th>6</th>\n",
       "      <td>Chabichou</td>\n",
       "      <td>344</td>\n",
       "      <td>192.0</td>\n",
       "      <td>87.2</td>\n",
       "      <td>27.9</td>\n",
       "      <td>90.1</td>\n",
       "      <td>36.3</td>\n",
       "      <td>19.5</td>\n",
       "      <td>80</td>\n",
       "      <td>36</td>\n",
       "    </tr>\n",
       "    <tr>\n",
       "      <th>7</th>\n",
       "      <td>Chaource</td>\n",
       "      <td>292</td>\n",
       "      <td>276.0</td>\n",
       "      <td>132.9</td>\n",
       "      <td>25.4</td>\n",
       "      <td>116.4</td>\n",
       "      <td>32.5</td>\n",
       "      <td>17.8</td>\n",
       "      <td>70</td>\n",
       "      <td>25</td>\n",
       "    </tr>\n",
       "    <tr>\n",
       "      <th>8</th>\n",
       "      <td>Cheddar</td>\n",
       "      <td>406</td>\n",
       "      <td>172.0</td>\n",
       "      <td>182.3</td>\n",
       "      <td>32.5</td>\n",
       "      <td>76.4</td>\n",
       "      <td>4.9</td>\n",
       "      <td>26.0</td>\n",
       "      <td>110</td>\n",
       "      <td>28</td>\n",
       "    </tr>\n",
       "    <tr>\n",
       "      <th>9</th>\n",
       "      <td>Comte</td>\n",
       "      <td>399</td>\n",
       "      <td>92.0</td>\n",
       "      <td>220.5</td>\n",
       "      <td>32.4</td>\n",
       "      <td>55.9</td>\n",
       "      <td>1.3</td>\n",
       "      <td>29.2</td>\n",
       "      <td>120</td>\n",
       "      <td>51</td>\n",
       "    </tr>\n",
       "    <tr>\n",
       "      <th>10</th>\n",
       "      <td>Coulomniers</td>\n",
       "      <td>308</td>\n",
       "      <td>222.0</td>\n",
       "      <td>79.2</td>\n",
       "      <td>25.6</td>\n",
       "      <td>63.6</td>\n",
       "      <td>21.1</td>\n",
       "      <td>20.5</td>\n",
       "      <td>80</td>\n",
       "      <td>13</td>\n",
       "    </tr>\n",
       "    <tr>\n",
       "      <th>11</th>\n",
       "      <td>Edam</td>\n",
       "      <td>327</td>\n",
       "      <td>148.0</td>\n",
       "      <td>272.2</td>\n",
       "      <td>24.7</td>\n",
       "      <td>65.7</td>\n",
       "      <td>5.5</td>\n",
       "      <td>24.7</td>\n",
       "      <td>80</td>\n",
       "      <td>44</td>\n",
       "    </tr>\n",
       "    <tr>\n",
       "      <th>12</th>\n",
       "      <td>Emmental</td>\n",
       "      <td>378</td>\n",
       "      <td>60.0</td>\n",
       "      <td>308.2</td>\n",
       "      <td>29.4</td>\n",
       "      <td>56.3</td>\n",
       "      <td>2.4</td>\n",
       "      <td>29.4</td>\n",
       "      <td>110</td>\n",
       "      <td>45</td>\n",
       "    </tr>\n",
       "    <tr>\n",
       "      <th>13</th>\n",
       "      <td>Fr.chevrepatemolle</td>\n",
       "      <td>206</td>\n",
       "      <td>160.0</td>\n",
       "      <td>72.8</td>\n",
       "      <td>18.5</td>\n",
       "      <td>150.5</td>\n",
       "      <td>31.0</td>\n",
       "      <td>11.1</td>\n",
       "      <td>50</td>\n",
       "      <td>16</td>\n",
       "    </tr>\n",
       "    <tr>\n",
       "      <th>14</th>\n",
       "      <td>Fr.fondu.45</td>\n",
       "      <td>292</td>\n",
       "      <td>390.0</td>\n",
       "      <td>168.5</td>\n",
       "      <td>24.0</td>\n",
       "      <td>77.4</td>\n",
       "      <td>5.5</td>\n",
       "      <td>16.8</td>\n",
       "      <td>70</td>\n",
       "      <td>20</td>\n",
       "    </tr>\n",
       "    <tr>\n",
       "      <th>16</th>\n",
       "      <td>Fr.frais40nat.</td>\n",
       "      <td>115</td>\n",
       "      <td>25.0</td>\n",
       "      <td>94.8</td>\n",
       "      <td>7.8</td>\n",
       "      <td>64.3</td>\n",
       "      <td>22.6</td>\n",
       "      <td>7.0</td>\n",
       "      <td>30</td>\n",
       "      <td>10</td>\n",
       "    </tr>\n",
       "    <tr>\n",
       "      <th>17</th>\n",
       "      <td>Maroilles</td>\n",
       "      <td>338</td>\n",
       "      <td>311.0</td>\n",
       "      <td>236.7</td>\n",
       "      <td>29.1</td>\n",
       "      <td>46.7</td>\n",
       "      <td>3.6</td>\n",
       "      <td>20.4</td>\n",
       "      <td>90</td>\n",
       "      <td>40</td>\n",
       "    </tr>\n",
       "    <tr>\n",
       "      <th>18</th>\n",
       "      <td>Morbier</td>\n",
       "      <td>347</td>\n",
       "      <td>285.0</td>\n",
       "      <td>219.0</td>\n",
       "      <td>29.5</td>\n",
       "      <td>57.6</td>\n",
       "      <td>5.8</td>\n",
       "      <td>23.6</td>\n",
       "      <td>80</td>\n",
       "      <td>30</td>\n",
       "    </tr>\n",
       "    <tr>\n",
       "      <th>19</th>\n",
       "      <td>Parmesan</td>\n",
       "      <td>381</td>\n",
       "      <td>240.0</td>\n",
       "      <td>334.6</td>\n",
       "      <td>27.5</td>\n",
       "      <td>90.0</td>\n",
       "      <td>5.2</td>\n",
       "      <td>35.7</td>\n",
       "      <td>80</td>\n",
       "      <td>46</td>\n",
       "    </tr>\n",
       "    <tr>\n",
       "      <th>20</th>\n",
       "      <td>Petitsuisse40</td>\n",
       "      <td>142</td>\n",
       "      <td>22.0</td>\n",
       "      <td>78.2</td>\n",
       "      <td>10.4</td>\n",
       "      <td>63.4</td>\n",
       "      <td>20.4</td>\n",
       "      <td>9.4</td>\n",
       "      <td>20</td>\n",
       "      <td>10</td>\n",
       "    </tr>\n",
       "    <tr>\n",
       "      <th>21</th>\n",
       "      <td>PontlEveque</td>\n",
       "      <td>300</td>\n",
       "      <td>223.0</td>\n",
       "      <td>156.7</td>\n",
       "      <td>23.4</td>\n",
       "      <td>53.0</td>\n",
       "      <td>4.0</td>\n",
       "      <td>21.1</td>\n",
       "      <td>70</td>\n",
       "      <td>22</td>\n",
       "    </tr>\n",
       "    <tr>\n",
       "      <th>22</th>\n",
       "      <td>Pyrenees</td>\n",
       "      <td>355</td>\n",
       "      <td>232.0</td>\n",
       "      <td>178.9</td>\n",
       "      <td>28.0</td>\n",
       "      <td>51.5</td>\n",
       "      <td>6.8</td>\n",
       "      <td>22.4</td>\n",
       "      <td>90</td>\n",
       "      <td>25</td>\n",
       "    </tr>\n",
       "    <tr>\n",
       "      <th>23</th>\n",
       "      <td>Reblochon</td>\n",
       "      <td>309</td>\n",
       "      <td>272.0</td>\n",
       "      <td>202.3</td>\n",
       "      <td>24.6</td>\n",
       "      <td>73.1</td>\n",
       "      <td>8.1</td>\n",
       "      <td>19.7</td>\n",
       "      <td>80</td>\n",
       "      <td>30</td>\n",
       "    </tr>\n",
       "    <tr>\n",
       "      <th>24</th>\n",
       "      <td>Rocquefort</td>\n",
       "      <td>370</td>\n",
       "      <td>432.0</td>\n",
       "      <td>162.0</td>\n",
       "      <td>31.2</td>\n",
       "      <td>83.5</td>\n",
       "      <td>13.3</td>\n",
       "      <td>18.7</td>\n",
       "      <td>100</td>\n",
       "      <td>25</td>\n",
       "    </tr>\n",
       "    <tr>\n",
       "      <th>25</th>\n",
       "      <td>SaintPaulin</td>\n",
       "      <td>298</td>\n",
       "      <td>205.0</td>\n",
       "      <td>261.0</td>\n",
       "      <td>23.3</td>\n",
       "      <td>60.4</td>\n",
       "      <td>6.7</td>\n",
       "      <td>23.3</td>\n",
       "      <td>70</td>\n",
       "      <td>26</td>\n",
       "    </tr>\n",
       "    <tr>\n",
       "      <th>26</th>\n",
       "      <td>Tome</td>\n",
       "      <td>321</td>\n",
       "      <td>252.0</td>\n",
       "      <td>125.5</td>\n",
       "      <td>27.3</td>\n",
       "      <td>62.3</td>\n",
       "      <td>6.2</td>\n",
       "      <td>21.8</td>\n",
       "      <td>80</td>\n",
       "      <td>20</td>\n",
       "    </tr>\n",
       "    <tr>\n",
       "      <th>27</th>\n",
       "      <td>Vacherin</td>\n",
       "      <td>321</td>\n",
       "      <td>140.0</td>\n",
       "      <td>218.0</td>\n",
       "      <td>29.3</td>\n",
       "      <td>49.2</td>\n",
       "      <td>3.7</td>\n",
       "      <td>17.6</td>\n",
       "      <td>80</td>\n",
       "      <td>30</td>\n",
       "    </tr>\n",
       "  </tbody>\n",
       "</table>\n",
       "</div>"
      ],
      "text/plain": [
       "           cheese_name  calories  sodium  calcium  lipides  retinol  folates  \\\n",
       "0          CarredelEst       314   353.5     72.6     26.3     51.6     30.3   \n",
       "1              Babybel       314   238.0    209.8     25.1     63.7      6.4   \n",
       "2             Beaufort       401   112.0    259.4     33.3     54.9      1.2   \n",
       "3                 Bleu       342   336.0    211.1     28.9     37.1     27.5   \n",
       "4            Camembert       264   314.0    215.9     19.5    103.0     36.4   \n",
       "5               Cantal       367   256.0    264.0     28.8     48.8      5.7   \n",
       "6            Chabichou       344   192.0     87.2     27.9     90.1     36.3   \n",
       "7             Chaource       292   276.0    132.9     25.4    116.4     32.5   \n",
       "8              Cheddar       406   172.0    182.3     32.5     76.4      4.9   \n",
       "9                Comte       399    92.0    220.5     32.4     55.9      1.3   \n",
       "10         Coulomniers       308   222.0     79.2     25.6     63.6     21.1   \n",
       "11                Edam       327   148.0    272.2     24.7     65.7      5.5   \n",
       "12            Emmental       378    60.0    308.2     29.4     56.3      2.4   \n",
       "13  Fr.chevrepatemolle       206   160.0     72.8     18.5    150.5     31.0   \n",
       "14         Fr.fondu.45       292   390.0    168.5     24.0     77.4      5.5   \n",
       "16      Fr.frais40nat.       115    25.0     94.8      7.8     64.3     22.6   \n",
       "17           Maroilles       338   311.0    236.7     29.1     46.7      3.6   \n",
       "18             Morbier       347   285.0    219.0     29.5     57.6      5.8   \n",
       "19            Parmesan       381   240.0    334.6     27.5     90.0      5.2   \n",
       "20       Petitsuisse40       142    22.0     78.2     10.4     63.4     20.4   \n",
       "21         PontlEveque       300   223.0    156.7     23.4     53.0      4.0   \n",
       "22            Pyrenees       355   232.0    178.9     28.0     51.5      6.8   \n",
       "23           Reblochon       309   272.0    202.3     24.6     73.1      8.1   \n",
       "24          Rocquefort       370   432.0    162.0     31.2     83.5     13.3   \n",
       "25         SaintPaulin       298   205.0    261.0     23.3     60.4      6.7   \n",
       "26                Tome       321   252.0    125.5     27.3     62.3      6.2   \n",
       "27            Vacherin       321   140.0    218.0     29.3     49.2      3.7   \n",
       "\n",
       "    proteines  cholesterol  magnesium  \n",
       "0        21.0           70         20  \n",
       "1        22.6           70         27  \n",
       "2        26.6          120         41  \n",
       "3        20.2           90         27  \n",
       "4        23.4           60         20  \n",
       "5        23.0           90         30  \n",
       "6        19.5           80         36  \n",
       "7        17.8           70         25  \n",
       "8        26.0          110         28  \n",
       "9        29.2          120         51  \n",
       "10       20.5           80         13  \n",
       "11       24.7           80         44  \n",
       "12       29.4          110         45  \n",
       "13       11.1           50         16  \n",
       "14       16.8           70         20  \n",
       "16        7.0           30         10  \n",
       "17       20.4           90         40  \n",
       "18       23.6           80         30  \n",
       "19       35.7           80         46  \n",
       "20        9.4           20         10  \n",
       "21       21.1           70         22  \n",
       "22       22.4           90         25  \n",
       "23       19.7           80         30  \n",
       "24       18.7          100         25  \n",
       "25       23.3           70         26  \n",
       "26       21.8           80         20  \n",
       "27       17.6           80         30  "
      ]
     },
     "execution_count": 54,
     "metadata": {},
     "output_type": "execute_result"
    }
   ],
   "source": [
    "df.loc[(df['calories']>=100)]"
   ]
  },
  {
   "cell_type": "markdown",
   "metadata": {
    "id": "gBptlj9dDDrt"
   },
   "source": [
    "### Part 2. Missing values \n",
    "\n",
    "##### Step 11. Create new variables\n",
    "\n",
    "We're going to create a new column named 'dietetics' that indicates whether the cheese is suitable for a diet or not, based on the criteria \"number of calories < 100\" and \"number of proteins > 5\"."
   ]
  },
  {
   "cell_type": "code",
   "execution_count": 58,
   "metadata": {
    "colab": {
     "base_uri": "https://localhost:8080/"
    },
    "id": "U7uDtPNZDDrt",
    "outputId": "d47c0da6-28f3-4db0-ebf0-0c3f510b456d"
   },
   "outputs": [],
   "source": [
    "df['dietetics'] = ((df['calories'] < 100) & (df['proteines'] > 5)).map({True: 'Oui', False: 'Non'})"
   ]
  },
  {
   "cell_type": "markdown",
   "metadata": {},
   "source": [
    "We're now going to deal with a DataFrame with problems. You will import the CSV file named 'cheese_V2'."
   ]
  },
  {
   "cell_type": "code",
   "execution_count": 116,
   "metadata": {},
   "outputs": [
    {
     "name": "stdout",
     "output_type": "stream",
     "text": [
      "                cheese  calories  sodium  calcium  lipides  retinol  folates  \\\n",
      "0          CarredelEst     314.0   353.5     72.6     26.3     51.6     30.3   \n",
      "1              Babybel     314.0   238.0    209.8     25.1     63.7      6.4   \n",
      "2             Beaufort     401.0   112.0    259.4     33.3     54.9      1.2   \n",
      "3                 Bleu     342.0   336.0    211.1     28.9     37.1     27.5   \n",
      "4            Camembert     264.0   314.0    215.9     19.5    103.0     36.4   \n",
      "5               Cantal     367.0   256.0    264.0     28.8     48.8      5.7   \n",
      "6            Chabichou     344.0   192.0     87.2     27.9     90.1     36.3   \n",
      "7             Chaource     292.0   276.0    132.9     25.4    116.4     32.5   \n",
      "8              Cheddar     406.0   172.0    182.3     32.5     76.4      4.9   \n",
      "9                Comte     399.0    92.0    220.5     32.4     55.9      1.3   \n",
      "10         Coulomniers     308.0   222.0     79.2     25.6     63.6     21.1   \n",
      "11                Edam     327.0   148.0    272.2     24.7     65.7      5.5   \n",
      "12            Emmental     378.0    60.0    308.2     29.4     56.3      2.4   \n",
      "13  Fr.chevrepatemolle     206.0   160.0     72.8     18.5    150.5     31.0   \n",
      "14         Fr.fondu.45     292.0   390.0    168.5     24.0     77.4      5.5   \n",
      "15      Fr.frais20nat.      80.0    41.0    146.3      3.5     50.0     20.0   \n",
      "16      Fr.frais40nat.     115.0    25.0     94.8      7.8     64.3     22.6   \n",
      "17           Maroilles     338.0   311.0    236.7     29.1     46.7      3.6   \n",
      "18             Morbier     347.0   285.0    219.0     29.5     57.6      5.8   \n",
      "19            Parmesan     381.0   240.0    334.6     27.5     90.0      5.2   \n",
      "20       Petitsuisse40     142.0    22.0     78.2     10.4     63.4     20.4   \n",
      "21         PontlEveque     300.0   223.0    156.7     23.4     53.0      4.0   \n",
      "22            Pyrenees     355.0   232.0    178.9     28.0     51.5      6.8   \n",
      "23           Reblochon     309.0   272.0    202.3     24.6     73.1      8.1   \n",
      "24          Rocquefort     370.0   432.0    162.0     31.2     83.5     13.3   \n",
      "25         SaintPaulin     298.0   205.0    261.0     23.3     60.4      6.7   \n",
      "26                Tome     321.0   252.0    125.5     27.3     62.3      6.2   \n",
      "27            Vacherin     321.0   140.0    218.0     29.3     49.2      3.7   \n",
      "28  Yaourtlaitent.nat.       NaN     NaN      NaN      NaN      NaN      NaN   \n",
      "\n",
      "    proteines  cholesterol  magnesium  unnamed  \n",
      "0        21.0         70.0       20.0      NaN  \n",
      "1        22.6         70.0       27.0      NaN  \n",
      "2        26.6        120.0       41.0      NaN  \n",
      "3        20.2         90.0       27.0      NaN  \n",
      "4        23.4         60.0       20.0      NaN  \n",
      "5        23.0         90.0       30.0      NaN  \n",
      "6        19.5         80.0       36.0      NaN  \n",
      "7        17.8         70.0       25.0      NaN  \n",
      "8        26.0        110.0       28.0      NaN  \n",
      "9        29.2        120.0       51.0      NaN  \n",
      "10       20.5         80.0       13.0      NaN  \n",
      "11       24.7         80.0       44.0      NaN  \n",
      "12       29.4        110.0       45.0      NaN  \n",
      "13       11.1         50.0       16.0      NaN  \n",
      "14       16.8         70.0       20.0      NaN  \n",
      "15        8.3         10.0       11.0      NaN  \n",
      "16        7.0         30.0       10.0      NaN  \n",
      "17       20.4         90.0       40.0      NaN  \n",
      "18       23.6         80.0       30.0      NaN  \n",
      "19       35.7         80.0       46.0      NaN  \n",
      "20        9.4         20.0       10.0      NaN  \n",
      "21       21.1         70.0       22.0      NaN  \n",
      "22       22.4         90.0       25.0      NaN  \n",
      "23       19.7         80.0       30.0      NaN  \n",
      "24       18.7        100.0       25.0      NaN  \n",
      "25       23.3         70.0       26.0      NaN  \n",
      "26       21.8         80.0       20.0      NaN  \n",
      "27       17.6         80.0       30.0      NaN  \n",
      "28        NaN          NaN        NaN      NaN  \n"
     ]
    }
   ],
   "source": [
    "cheese_V2 = pd.read_csv('cheese_V2.csv', sep = ';', engine = 'python')\n",
    "print(cheese_V2)"
   ]
  },
  {
   "cell_type": "markdown",
   "metadata": {},
   "source": [
    "##### Step 12. Handling missing values\n",
    "\n",
    "As you've probably noticed, there's an empty 'unnamed' column and a row with null values. \n",
    "\n",
    "When you encounter empty cells (missing values) in a DataFrame, you have several options for dealing with them:\n",
    "\n",
    "- Deleting rows or columns: You can delete rows or columns containing missing values.\n",
    "\n",
    "- Fill missing values: You can fill missing values with a specific value using pandas' fillna() method. You can choose to fill with a constant value, the mean, the median or other methods of your choice.\n",
    "\n",
    "- Interpolation: You can use interpolation methods to estimate missing values based on neighboring values in the column...\n",
    "\n",
    "The choice of method depends on the context of your data and the objective of your analysis. Some techniques may be more appropriate than others, depending on the nature of the data and the analyses you wish to perform.\n",
    "\n",
    "###### a) Deleting rows or columns\n"
   ]
  },
  {
   "cell_type": "code",
   "execution_count": 126,
   "metadata": {},
   "outputs": [
    {
     "name": "stdout",
     "output_type": "stream",
     "text": [
      "                cheese  calories  sodium  calcium  lipides  retinol  folates  \\\n",
      "0          CarredelEst     314.0   353.5     72.6     26.3     51.6     30.3   \n",
      "1              Babybel     314.0   238.0    209.8     25.1     63.7      6.4   \n",
      "2             Beaufort     401.0   112.0    259.4     33.3     54.9      1.2   \n",
      "3                 Bleu     342.0   336.0    211.1     28.9     37.1     27.5   \n",
      "4            Camembert     264.0   314.0    215.9     19.5    103.0     36.4   \n",
      "5               Cantal     367.0   256.0    264.0     28.8     48.8      5.7   \n",
      "6            Chabichou     344.0   192.0     87.2     27.9     90.1     36.3   \n",
      "7             Chaource     292.0   276.0    132.9     25.4    116.4     32.5   \n",
      "8              Cheddar     406.0   172.0    182.3     32.5     76.4      4.9   \n",
      "9                Comte     399.0    92.0    220.5     32.4     55.9      1.3   \n",
      "10         Coulomniers     308.0   222.0     79.2     25.6     63.6     21.1   \n",
      "11                Edam     327.0   148.0    272.2     24.7     65.7      5.5   \n",
      "12            Emmental     378.0    60.0    308.2     29.4     56.3      2.4   \n",
      "13  Fr.chevrepatemolle     206.0   160.0     72.8     18.5    150.5     31.0   \n",
      "14         Fr.fondu.45     292.0   390.0    168.5     24.0     77.4      5.5   \n",
      "15      Fr.frais20nat.      80.0    41.0    146.3      3.5     50.0     20.0   \n",
      "16      Fr.frais40nat.     115.0    25.0     94.8      7.8     64.3     22.6   \n",
      "17           Maroilles     338.0   311.0    236.7     29.1     46.7      3.6   \n",
      "18             Morbier     347.0   285.0    219.0     29.5     57.6      5.8   \n",
      "19            Parmesan     381.0   240.0    334.6     27.5     90.0      5.2   \n",
      "20       Petitsuisse40     142.0    22.0     78.2     10.4     63.4     20.4   \n",
      "21         PontlEveque     300.0   223.0    156.7     23.4     53.0      4.0   \n",
      "22            Pyrenees     355.0   232.0    178.9     28.0     51.5      6.8   \n",
      "23           Reblochon     309.0   272.0    202.3     24.6     73.1      8.1   \n",
      "24          Rocquefort     370.0   432.0    162.0     31.2     83.5     13.3   \n",
      "25         SaintPaulin     298.0   205.0    261.0     23.3     60.4      6.7   \n",
      "26                Tome     321.0   252.0    125.5     27.3     62.3      6.2   \n",
      "27            Vacherin     321.0   140.0    218.0     29.3     49.2      3.7   \n",
      "\n",
      "    proteines  cholesterol  magnesium  \n",
      "0        21.0         70.0       20.0  \n",
      "1        22.6         70.0       27.0  \n",
      "2        26.6        120.0       41.0  \n",
      "3        20.2         90.0       27.0  \n",
      "4        23.4         60.0       20.0  \n",
      "5        23.0         90.0       30.0  \n",
      "6        19.5         80.0       36.0  \n",
      "7        17.8         70.0       25.0  \n",
      "8        26.0        110.0       28.0  \n",
      "9        29.2        120.0       51.0  \n",
      "10       20.5         80.0       13.0  \n",
      "11       24.7         80.0       44.0  \n",
      "12       29.4        110.0       45.0  \n",
      "13       11.1         50.0       16.0  \n",
      "14       16.8         70.0       20.0  \n",
      "15        8.3         10.0       11.0  \n",
      "16        7.0         30.0       10.0  \n",
      "17       20.4         90.0       40.0  \n",
      "18       23.6         80.0       30.0  \n",
      "19       35.7         80.0       46.0  \n",
      "20        9.4         20.0       10.0  \n",
      "21       21.1         70.0       22.0  \n",
      "22       22.4         90.0       25.0  \n",
      "23       19.7         80.0       30.0  \n",
      "24       18.7        100.0       25.0  \n",
      "25       23.3         70.0       26.0  \n",
      "26       21.8         80.0       20.0  \n",
      "27       17.6         80.0       30.0  \n"
     ]
    }
   ],
   "source": [
    "cheese_V2.dropna(axis=1, how='all', inplace=True)\n",
    "cheese_V2.dropna(thresh=2, inplace=True)\n",
    "print(cheese_V2)"
   ]
  },
  {
   "cell_type": "markdown",
   "metadata": {},
   "source": [
    "- cheese_V2.dropna(axis=0, inplace=True): This line removes rows containing missing values from the DataFrame cheese_V2. The parameter axis=0 indicates that rows are to be considered, and inplace=True means that the changes are made directly to the original DataFrame cheese_V2, modifying it in place.\n",
    "- cheese_V2.dropna(axis=1, inplace=True): This line removes columns containing missing values from the DataFrame cheese_V2. The parameter axis=1 specifies that columns are to be considered, and inplace=True means that the changes are made directly to the original DataFrame cheese_V2, modifying it in place"
   ]
  },
  {
   "cell_type": "markdown",
   "metadata": {},
   "source": [
    "###### b) Filling in missing values with the mean"
   ]
  },
  {
   "cell_type": "code",
   "execution_count": 127,
   "metadata": {},
   "outputs": [
    {
     "data": {
      "text/html": [
       "<div>\n",
       "<style scoped>\n",
       "    .dataframe tbody tr th:only-of-type {\n",
       "        vertical-align: middle;\n",
       "    }\n",
       "\n",
       "    .dataframe tbody tr th {\n",
       "        vertical-align: top;\n",
       "    }\n",
       "\n",
       "    .dataframe thead th {\n",
       "        text-align: right;\n",
       "    }\n",
       "</style>\n",
       "<table border=\"1\" class=\"dataframe\">\n",
       "  <thead>\n",
       "    <tr style=\"text-align: right;\">\n",
       "      <th></th>\n",
       "      <th>cheese</th>\n",
       "      <th>calories</th>\n",
       "      <th>sodium</th>\n",
       "      <th>calcium</th>\n",
       "      <th>lipides</th>\n",
       "      <th>retinol</th>\n",
       "      <th>folates</th>\n",
       "      <th>proteines</th>\n",
       "      <th>cholesterol</th>\n",
       "      <th>magnesium</th>\n",
       "    </tr>\n",
       "  </thead>\n",
       "  <tbody>\n",
       "    <tr>\n",
       "      <th>23</th>\n",
       "      <td>Reblochon</td>\n",
       "      <td>309.0</td>\n",
       "      <td>272.0</td>\n",
       "      <td>202.3</td>\n",
       "      <td>24.6</td>\n",
       "      <td>73.1</td>\n",
       "      <td>8.1</td>\n",
       "      <td>19.7</td>\n",
       "      <td>80.0</td>\n",
       "      <td>30.0</td>\n",
       "    </tr>\n",
       "    <tr>\n",
       "      <th>24</th>\n",
       "      <td>Rocquefort</td>\n",
       "      <td>370.0</td>\n",
       "      <td>432.0</td>\n",
       "      <td>162.0</td>\n",
       "      <td>31.2</td>\n",
       "      <td>83.5</td>\n",
       "      <td>13.3</td>\n",
       "      <td>18.7</td>\n",
       "      <td>100.0</td>\n",
       "      <td>25.0</td>\n",
       "    </tr>\n",
       "    <tr>\n",
       "      <th>25</th>\n",
       "      <td>SaintPaulin</td>\n",
       "      <td>298.0</td>\n",
       "      <td>205.0</td>\n",
       "      <td>261.0</td>\n",
       "      <td>23.3</td>\n",
       "      <td>60.4</td>\n",
       "      <td>6.7</td>\n",
       "      <td>23.3</td>\n",
       "      <td>70.0</td>\n",
       "      <td>26.0</td>\n",
       "    </tr>\n",
       "    <tr>\n",
       "      <th>26</th>\n",
       "      <td>Tome</td>\n",
       "      <td>321.0</td>\n",
       "      <td>252.0</td>\n",
       "      <td>125.5</td>\n",
       "      <td>27.3</td>\n",
       "      <td>62.3</td>\n",
       "      <td>6.2</td>\n",
       "      <td>21.8</td>\n",
       "      <td>80.0</td>\n",
       "      <td>20.0</td>\n",
       "    </tr>\n",
       "    <tr>\n",
       "      <th>27</th>\n",
       "      <td>Vacherin</td>\n",
       "      <td>321.0</td>\n",
       "      <td>140.0</td>\n",
       "      <td>218.0</td>\n",
       "      <td>29.3</td>\n",
       "      <td>49.2</td>\n",
       "      <td>3.7</td>\n",
       "      <td>17.6</td>\n",
       "      <td>80.0</td>\n",
       "      <td>30.0</td>\n",
       "    </tr>\n",
       "  </tbody>\n",
       "</table>\n",
       "</div>"
      ],
      "text/plain": [
       "         cheese  calories  sodium  calcium  lipides  retinol  folates  \\\n",
       "23    Reblochon     309.0   272.0    202.3     24.6     73.1      8.1   \n",
       "24   Rocquefort     370.0   432.0    162.0     31.2     83.5     13.3   \n",
       "25  SaintPaulin     298.0   205.0    261.0     23.3     60.4      6.7   \n",
       "26         Tome     321.0   252.0    125.5     27.3     62.3      6.2   \n",
       "27     Vacherin     321.0   140.0    218.0     29.3     49.2      3.7   \n",
       "\n",
       "    proteines  cholesterol  magnesium  \n",
       "23       19.7         80.0       30.0  \n",
       "24       18.7        100.0       25.0  \n",
       "25       23.3         70.0       26.0  \n",
       "26       21.8         80.0       20.0  \n",
       "27       17.6         80.0       30.0  "
      ]
     },
     "execution_count": 127,
     "metadata": {},
     "output_type": "execute_result"
    }
   ],
   "source": [
    "#a) Calculate calories column mean\n",
    "column_mean = cheese_V2['calories'].mean()  \n",
    "\n",
    "#b) Replace missing values with column mean value\n",
    "cheese_V2['calories'].fillna(column_mean, inplace=True)\n",
    "#cheese_V2.fillna(cheese_V2.mean(), inplace=True)\n",
    "cheese_V2.tail(5)"
   ]
  },
  {
   "cell_type": "markdown",
   "metadata": {},
   "source": [
    "### Part 3. Other examples\n",
    "\n",
    "#### Exercise 1. The IRIS dataset \n",
    "\n",
    "- Import dataset [`IRIS`](https://raw.githubusercontent.com/mwaskom/seaborn-data/master/iris.csv)\n",
    "- Use the necessary functions to view the start and end of the DataFrame respectively\n",
    "- How many rows and columns are there in the dataset? \n",
    "- Display the third row and the \"sepal_width\" column\n",
    "- Display the third row\n",
    "- Display the average of the sepal_length column\n",
    "- Display the standard deviation of the sepal_length column\n",
    "- Display the minimum of the sepal_length column\n",
    "- Are there any missing values in the dataset?\n",
    "- Set the values in rows 10 to 29 of the \"petal_length\" column to NaN.\n",
    "- Now replace the NaN values by 1.0\n",
    "- Set the first 3 lines to NaN\n",
    "- Delete rows containing NaN: [`dropna`](https://pandas.pydata.org/docs/dev/reference/api/pandas.DataFrame.dropna.html)\n",
    "- Rename species column with class "
   ]
  },
  {
   "cell_type": "code",
   "execution_count": 200,
   "metadata": {},
   "outputs": [
    {
     "name": "stdout",
     "output_type": "stream",
     "text": [
      "     sepal_length  sepal_width  petal_length  petal_width    species\n",
      "0             5.1          3.5           1.4          0.2     setosa\n",
      "1             4.9          3.0           1.4          0.2     setosa\n",
      "2             4.7          3.2           1.3          0.2     setosa\n",
      "3             4.6          3.1           1.5          0.2     setosa\n",
      "4             5.0          3.6           1.4          0.2     setosa\n",
      "..            ...          ...           ...          ...        ...\n",
      "145           6.7          3.0           5.2          2.3  virginica\n",
      "146           6.3          2.5           5.0          1.9  virginica\n",
      "147           6.5          3.0           5.2          2.0  virginica\n",
      "148           6.2          3.4           5.4          2.3  virginica\n",
      "149           5.9          3.0           5.1          1.8  virginica\n",
      "\n",
      "[150 rows x 5 columns]\n"
     ]
    }
   ],
   "source": [
    "import numpy as np\n",
    "iris = pd.read_csv('https://raw.githubusercontent.com/mwaskom/seaborn-data/master/iris.csv')\n",
    "print(iris)"
   ]
  },
  {
   "cell_type": "code",
   "execution_count": null,
   "metadata": {},
   "outputs": [],
   "source": [
    "iris.head(1)"
   ]
  },
  {
   "cell_type": "code",
   "execution_count": null,
   "metadata": {},
   "outputs": [],
   "source": [
    "iris.tail(1)"
   ]
  },
  {
   "cell_type": "code",
   "execution_count": 140,
   "metadata": {},
   "outputs": [
    {
     "name": "stdout",
     "output_type": "stream",
     "text": [
      "<class 'pandas.core.frame.DataFrame'>\n",
      "RangeIndex: 150 entries, 0 to 149\n",
      "Data columns (total 5 columns):\n",
      " #   Column        Non-Null Count  Dtype  \n",
      "---  ------        --------------  -----  \n",
      " 0   sepal_length  150 non-null    float64\n",
      " 1   sepal_width   150 non-null    float64\n",
      " 2   petal_length  150 non-null    float64\n",
      " 3   petal_width   150 non-null    float64\n",
      " 4   species       150 non-null    object \n",
      "dtypes: float64(4), object(1)\n",
      "memory usage: 6.0+ KB\n"
     ]
    }
   ],
   "source": [
    "iris.info()"
   ]
  },
  {
   "cell_type": "code",
   "execution_count": 216,
   "metadata": {},
   "outputs": [
    {
     "data": {
      "text/plain": [
       "3.9"
      ]
     },
     "execution_count": 216,
     "metadata": {},
     "output_type": "execute_result"
    }
   ],
   "source": [
    "iris.iloc[2]['sepal_width']"
   ]
  },
  {
   "cell_type": "code",
   "execution_count": 215,
   "metadata": {},
   "outputs": [
    {
     "data": {
      "text/plain": [
       "sepal_length       5.4\n",
       "sepal_width        3.9\n",
       "petal_length       1.7\n",
       "petal_width        0.4\n",
       "class           setosa\n",
       "Name: 5, dtype: object"
      ]
     },
     "execution_count": 215,
     "metadata": {},
     "output_type": "execute_result"
    }
   ],
   "source": [
    "iris.iloc[2]"
   ]
  },
  {
   "cell_type": "code",
   "execution_count": 213,
   "metadata": {},
   "outputs": [
    {
     "data": {
      "text/plain": [
       "(147, 5)"
      ]
     },
     "execution_count": 213,
     "metadata": {},
     "output_type": "execute_result"
    }
   ],
   "source": [
    "iris.shape"
   ]
  },
  {
   "cell_type": "code",
   "execution_count": 218,
   "metadata": {},
   "outputs": [
    {
     "data": {
      "text/plain": [
       "5.862585034013605"
      ]
     },
     "execution_count": 218,
     "metadata": {},
     "output_type": "execute_result"
    }
   ],
   "source": [
    "iris['sepal_length'].mean(numeric_only=True)"
   ]
  },
  {
   "cell_type": "code",
   "execution_count": 219,
   "metadata": {},
   "outputs": [
    {
     "data": {
      "text/plain": [
       "0.8249708076490437"
      ]
     },
     "execution_count": 219,
     "metadata": {},
     "output_type": "execute_result"
    }
   ],
   "source": [
    "iris['sepal_length'].std()"
   ]
  },
  {
   "cell_type": "code",
   "execution_count": 221,
   "metadata": {},
   "outputs": [
    {
     "data": {
      "text/plain": [
       "4.3"
      ]
     },
     "execution_count": 221,
     "metadata": {},
     "output_type": "execute_result"
    }
   ],
   "source": [
    "iris['sepal_length'].min()"
   ]
  },
  {
   "cell_type": "code",
   "execution_count": 224,
   "metadata": {},
   "outputs": [
    {
     "name": "stdout",
     "output_type": "stream",
     "text": [
      " \n",
      "Count total NaN at each column in a DataFrame : \n",
      "\n",
      " sepal_length    0\n",
      "sepal_width     0\n",
      "petal_length    0\n",
      "petal_width     0\n",
      "class           0\n",
      "dtype: int64\n"
     ]
    }
   ],
   "source": [
    "print(\" \\nCount total NaN at each column in a DataFrame : \\n\\n\", iris.isnull().sum()) "
   ]
  },
  {
   "cell_type": "code",
   "execution_count": 226,
   "metadata": {},
   "outputs": [
    {
     "data": {
      "text/html": [
       "<div>\n",
       "<style scoped>\n",
       "    .dataframe tbody tr th:only-of-type {\n",
       "        vertical-align: middle;\n",
       "    }\n",
       "\n",
       "    .dataframe tbody tr th {\n",
       "        vertical-align: top;\n",
       "    }\n",
       "\n",
       "    .dataframe thead th {\n",
       "        text-align: right;\n",
       "    }\n",
       "</style>\n",
       "<table border=\"1\" class=\"dataframe\">\n",
       "  <thead>\n",
       "    <tr style=\"text-align: right;\">\n",
       "      <th></th>\n",
       "      <th>sepal_length</th>\n",
       "      <th>sepal_width</th>\n",
       "      <th>petal_length</th>\n",
       "      <th>petal_width</th>\n",
       "      <th>class</th>\n",
       "    </tr>\n",
       "  </thead>\n",
       "  <tbody>\n",
       "    <tr>\n",
       "      <th>12</th>\n",
       "      <td>4.8</td>\n",
       "      <td>3.0</td>\n",
       "      <td>NaN</td>\n",
       "      <td>0.1</td>\n",
       "      <td>setosa</td>\n",
       "    </tr>\n",
       "    <tr>\n",
       "      <th>13</th>\n",
       "      <td>4.3</td>\n",
       "      <td>3.0</td>\n",
       "      <td>NaN</td>\n",
       "      <td>0.1</td>\n",
       "      <td>setosa</td>\n",
       "    </tr>\n",
       "    <tr>\n",
       "      <th>14</th>\n",
       "      <td>5.8</td>\n",
       "      <td>4.0</td>\n",
       "      <td>NaN</td>\n",
       "      <td>0.2</td>\n",
       "      <td>setosa</td>\n",
       "    </tr>\n",
       "    <tr>\n",
       "      <th>15</th>\n",
       "      <td>5.7</td>\n",
       "      <td>4.4</td>\n",
       "      <td>NaN</td>\n",
       "      <td>0.4</td>\n",
       "      <td>setosa</td>\n",
       "    </tr>\n",
       "    <tr>\n",
       "      <th>16</th>\n",
       "      <td>5.4</td>\n",
       "      <td>3.9</td>\n",
       "      <td>NaN</td>\n",
       "      <td>0.4</td>\n",
       "      <td>setosa</td>\n",
       "    </tr>\n",
       "    <tr>\n",
       "      <th>17</th>\n",
       "      <td>5.1</td>\n",
       "      <td>3.5</td>\n",
       "      <td>NaN</td>\n",
       "      <td>0.3</td>\n",
       "      <td>setosa</td>\n",
       "    </tr>\n",
       "    <tr>\n",
       "      <th>18</th>\n",
       "      <td>5.7</td>\n",
       "      <td>3.8</td>\n",
       "      <td>NaN</td>\n",
       "      <td>0.3</td>\n",
       "      <td>setosa</td>\n",
       "    </tr>\n",
       "    <tr>\n",
       "      <th>19</th>\n",
       "      <td>5.1</td>\n",
       "      <td>3.8</td>\n",
       "      <td>NaN</td>\n",
       "      <td>0.3</td>\n",
       "      <td>setosa</td>\n",
       "    </tr>\n",
       "    <tr>\n",
       "      <th>20</th>\n",
       "      <td>5.4</td>\n",
       "      <td>3.4</td>\n",
       "      <td>NaN</td>\n",
       "      <td>0.2</td>\n",
       "      <td>setosa</td>\n",
       "    </tr>\n",
       "    <tr>\n",
       "      <th>21</th>\n",
       "      <td>5.1</td>\n",
       "      <td>3.7</td>\n",
       "      <td>NaN</td>\n",
       "      <td>0.4</td>\n",
       "      <td>setosa</td>\n",
       "    </tr>\n",
       "    <tr>\n",
       "      <th>22</th>\n",
       "      <td>4.6</td>\n",
       "      <td>3.6</td>\n",
       "      <td>NaN</td>\n",
       "      <td>0.2</td>\n",
       "      <td>setosa</td>\n",
       "    </tr>\n",
       "    <tr>\n",
       "      <th>23</th>\n",
       "      <td>5.1</td>\n",
       "      <td>3.3</td>\n",
       "      <td>NaN</td>\n",
       "      <td>0.5</td>\n",
       "      <td>setosa</td>\n",
       "    </tr>\n",
       "    <tr>\n",
       "      <th>24</th>\n",
       "      <td>4.8</td>\n",
       "      <td>3.4</td>\n",
       "      <td>NaN</td>\n",
       "      <td>0.2</td>\n",
       "      <td>setosa</td>\n",
       "    </tr>\n",
       "    <tr>\n",
       "      <th>25</th>\n",
       "      <td>5.0</td>\n",
       "      <td>3.0</td>\n",
       "      <td>NaN</td>\n",
       "      <td>0.2</td>\n",
       "      <td>setosa</td>\n",
       "    </tr>\n",
       "    <tr>\n",
       "      <th>26</th>\n",
       "      <td>5.0</td>\n",
       "      <td>3.4</td>\n",
       "      <td>NaN</td>\n",
       "      <td>0.4</td>\n",
       "      <td>setosa</td>\n",
       "    </tr>\n",
       "    <tr>\n",
       "      <th>27</th>\n",
       "      <td>5.2</td>\n",
       "      <td>3.5</td>\n",
       "      <td>NaN</td>\n",
       "      <td>0.2</td>\n",
       "      <td>setosa</td>\n",
       "    </tr>\n",
       "    <tr>\n",
       "      <th>28</th>\n",
       "      <td>5.2</td>\n",
       "      <td>3.4</td>\n",
       "      <td>NaN</td>\n",
       "      <td>0.2</td>\n",
       "      <td>setosa</td>\n",
       "    </tr>\n",
       "    <tr>\n",
       "      <th>29</th>\n",
       "      <td>4.7</td>\n",
       "      <td>3.2</td>\n",
       "      <td>1.6</td>\n",
       "      <td>0.2</td>\n",
       "      <td>setosa</td>\n",
       "    </tr>\n",
       "    <tr>\n",
       "      <th>30</th>\n",
       "      <td>4.8</td>\n",
       "      <td>3.1</td>\n",
       "      <td>1.6</td>\n",
       "      <td>0.2</td>\n",
       "      <td>setosa</td>\n",
       "    </tr>\n",
       "  </tbody>\n",
       "</table>\n",
       "</div>"
      ],
      "text/plain": [
       "    sepal_length  sepal_width  petal_length  petal_width   class\n",
       "12           4.8          3.0           NaN          0.1  setosa\n",
       "13           4.3          3.0           NaN          0.1  setosa\n",
       "14           5.8          4.0           NaN          0.2  setosa\n",
       "15           5.7          4.4           NaN          0.4  setosa\n",
       "16           5.4          3.9           NaN          0.4  setosa\n",
       "17           5.1          3.5           NaN          0.3  setosa\n",
       "18           5.7          3.8           NaN          0.3  setosa\n",
       "19           5.1          3.8           NaN          0.3  setosa\n",
       "20           5.4          3.4           NaN          0.2  setosa\n",
       "21           5.1          3.7           NaN          0.4  setosa\n",
       "22           4.6          3.6           NaN          0.2  setosa\n",
       "23           5.1          3.3           NaN          0.5  setosa\n",
       "24           4.8          3.4           NaN          0.2  setosa\n",
       "25           5.0          3.0           NaN          0.2  setosa\n",
       "26           5.0          3.4           NaN          0.4  setosa\n",
       "27           5.2          3.5           NaN          0.2  setosa\n",
       "28           5.2          3.4           NaN          0.2  setosa\n",
       "29           4.7          3.2           1.6          0.2  setosa\n",
       "30           4.8          3.1           1.6          0.2  setosa"
      ]
     },
     "execution_count": 226,
     "metadata": {},
     "output_type": "execute_result"
    }
   ],
   "source": [
    "iris.loc[9:28,'petal_length'] = np.nan\n",
    "iris[9:28]"
   ]
  },
  {
   "cell_type": "code",
   "execution_count": 199,
   "metadata": {},
   "outputs": [
    {
     "name": "stdout",
     "output_type": "stream",
     "text": [
      "     sepal_length  sepal_width  petal_length  petal_width    species\n",
      "0             5.1          3.5           1.4          0.2     setosa\n",
      "1             4.9          3.0           1.4          0.2     setosa\n",
      "2             4.7          3.2           1.3          0.2     setosa\n",
      "3             4.6          3.1           1.5          0.2     setosa\n",
      "4             5.0          3.6           1.4          0.2     setosa\n",
      "..            ...          ...           ...          ...        ...\n",
      "145           6.7          3.0           5.2          2.3  virginica\n",
      "146           6.3          2.5           5.0          1.9  virginica\n",
      "147           6.5          3.0           5.2          2.0  virginica\n",
      "148           6.2          3.4           5.4          2.3  virginica\n",
      "149           5.9          3.0           5.1          1.8  virginica\n",
      "\n",
      "[150 rows x 5 columns]\n"
     ]
    }
   ],
   "source": [
    "iris.fillna(1, inplace=True)"
   ]
  },
  {
   "cell_type": "code",
   "execution_count": 210,
   "metadata": {},
   "outputs": [],
   "source": [
    "iris.loc[0:2]=np.NaN"
   ]
  },
  {
   "cell_type": "code",
   "execution_count": 211,
   "metadata": {},
   "outputs": [],
   "source": [
    "iris.dropna(axis=0,inplace=True)"
   ]
  },
  {
   "cell_type": "code",
   "execution_count": 208,
   "metadata": {},
   "outputs": [],
   "source": [
    "iris.rename(columns={\"species\": \"class\"}, inplace=True)"
   ]
  },
  {
   "cell_type": "markdown",
   "metadata": {},
   "source": [
    "#### Exercise 2.\n",
    "Create a Pandas dataFrame using the two variables declared below. The dictionary keys `exam_data` correspond to the column names of the DataFrame. The str list `labels` corresponds to the DataFrame index.\n",
    "Then explore this DataFrame to detect and clean up any missing data."
   ]
  },
  {
   "cell_type": "code",
   "execution_count": null,
   "metadata": {},
   "outputs": [],
   "source": [
    "import numpy as np\n",
    "exam_data  = {'name': ['Anastasia', 'Dima', 'Katherine', 'James', 'Emily', 'Michael', 'Matthew', 'Laura', 'Kevin', 'Jonas'],\n",
    "        'score': [12.5, 9, 16.5, np.nan, 9, 20, 14.5, np.nan, 8, 19],\n",
    "        'attempts': [1, 3, 2, 3, 2, 3, 1, 1, 2, 1],\n",
    "        'qualify': ['z', 'no', 'yes', 'no', 'no', 'yes', 'yes', 'no', 'no', 'yes']}\n",
    "labels = ['a', 'b', 'c', 'd', 'e', 'f', 'g', 'h', 'i', 'j']\n"
   ]
  },
  {
   "cell_type": "code",
   "execution_count": null,
   "metadata": {},
   "outputs": [],
   "source": [
    "import numpy as np\n",
    "exam_data = "
   ]
  },
  {
   "cell_type": "markdown",
   "metadata": {
    "id": "NxbK7moXSu7N"
   },
   "source": [
    "#### Exercise 3. \n",
    "- Step 1. Go to https://www.kaggle.com/openfoodfacts/world-food-facts/data\n",
    "- Step 2. Download the dataset to your computer and unzip it.\n",
    "- Step 3. Use the tsv file and assign it to the dataframe named \"food\" (sep='\\t')\n",
    "- Step 4. Determine the results of these lines without executing \n"
   ]
  },
  {
   "cell_type": "code",
   "execution_count": null,
   "metadata": {},
   "outputs": [],
   "source": [
    "food.shape\n",
    "food.shape[0]\n",
    "food.columns\n",
    "food.columns[104]"
   ]
  },
  {
   "cell_type": "markdown",
   "metadata": {},
   "source": []
  },
  {
   "cell_type": "markdown",
   "metadata": {},
   "source": [
    "#### Exercise 4. Additional exercises\n",
    "\n",
    "For additional exercises on data preparation with Pandas, here are some exercises with solutions https://github.com/guipsamora/pandas_exercises/tree/master/"
   ]
  },
  {
   "cell_type": "code",
   "execution_count": null,
   "metadata": {},
   "outputs": [],
   "source": []
  }
 ],
 "metadata": {
  "colab": {
   "name": "Lab_1_ESIEECom_Campagnes_de_publicité.ipynb",
   "provenance": []
  },
  "kernelspec": {
   "display_name": "Python 3 (ipykernel)",
   "language": "python",
   "name": "python3"
  },
  "language_info": {
   "codemirror_mode": {
    "name": "ipython",
    "version": 3
   },
   "file_extension": ".py",
   "mimetype": "text/x-python",
   "name": "python",
   "nbconvert_exporter": "python",
   "pygments_lexer": "ipython3",
   "version": "3.11.7"
  }
 },
 "nbformat": 4,
 "nbformat_minor": 4
}
